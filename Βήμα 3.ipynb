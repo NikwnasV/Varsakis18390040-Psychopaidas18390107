{
 "cells": [
  {
   "cell_type": "markdown",
   "id": "e752a784-ec99-468c-842d-6b6a0b7065c2",
   "metadata": {},
   "source": [
    "Το παρακάτω τμήμα κώδικα αποτελεί το τρόπο με τον οποίο θα δημιουργηθεί το ευρετήριο μας. Οπώς και στα προηγούμενα δυο βήματα, θα κάνουμε import τα απαραίτητα library αρχικά. "
   ]
  },
  {
   "cell_type": "code",
   "execution_count": 2,
   "id": "a1c6d7e3-8c94-4340-adad-25415410e9f6",
   "metadata": {},
   "outputs": [],
   "source": [
    "import os\n",
    "import pandas as pd\n",
    "from collections import defaultdict"
   ]
  },
  {
   "cell_type": "markdown",
   "id": "4c909a36-7d88-476a-a066-7fb3669b8d4d",
   "metadata": {},
   "source": [
    "Έχοντας τα library, μπορούμε να προχωρήσουμε στη δημιουργία του ευρετηρίου. Οπώς μας ζητήθηκε, αυτό θα είναι ανεστραμμένο ευρετήριο. Αυτό σημαίνει ότι μέσα σε αυτό, θα μπορεί κανείς να βρει μια λέξη-κλείδι, καθώς και τη τοποθεσία της μέσα σε όσα έγγραφα εμφανίζονται. "
   ]
  },
  {
   "cell_type": "code",
   "execution_count": 5,
   "id": "a269acd5-51ec-4d3e-b1f3-ca8569ba31d9",
   "metadata": {},
   "outputs": [],
   "source": [
    "# Επεξεργασία αρχείων CSV στον τρέχοντα φάκελο\n",
    "for file_name in os.listdir('.'):  # Υποθέτοντας ότι τα αρχεία βρίσκονται στον τρέχοντα φάκελο\n",
    "    if file_name.startswith('processed_') and file_name.endswith('.csv'):\n",
    "        print(f\"Προσθήκη στο ευρετήριο: {file_name}\")\n",
    "        \n",
    "        # Φόρτωση του CSV αρχείου\n",
    "        df = pd.read_csv(file_name)\n",
    "\n",
    "        # Εξαγωγή των παραγράφων και προσθήκη στο ευρετήριο\n",
    "        for idx, paragraph in enumerate(df['Paragraph']):\n",
    "            # Διαιρούμε την παράγραφο σε λέξεις\n",
    "            words = paragraph.split()\n",
    "            document_id = f\"{file_name}#Paragraph{idx+1}\"  # Μοναδικό ID για κάθε παράγραφο\n",
    "\n",
    "            for word in words:\n",
    "                word = word.lower()  # Κανονικοποίηση σε πεζά\n",
    "                if document_id not in inverted_index[word]:\n",
    "                    inverted_index[word].append(document_id)"
   ]
  },
  {
   "cell_type": "markdown",
   "id": "bd475491-778f-4e25-949e-e10550af11d1",
   "metadata": {},
   "source": [
    "Το παραπάνω τμήμα κώδικα κάνει ακριβώς αυτό. Διαβάζει το όνομα του αρχείου, και αν είναι επεξεργασμένο αρχείο .csv, το διαβάζει, εξάγει το κείμενο και το προσθέτει στο ευρετήριο. "
   ]
  },
  {
   "cell_type": "markdown",
   "id": "966c0108-68bc-415e-a60a-cf4b60f4463a",
   "metadata": {},
   "source": [
    "Τέλος, θέλουμε να αποθηκεύσουμε σε ένα αρχείο το ευρετήριο, ώστε να μπορούμε να το χρησιμοποίησουμε στο επόμενο βήμα. "
   ]
  },
  {
   "cell_type": "code",
   "execution_count": null,
   "id": "a792d235-5f4e-4671-82bf-7a990cb61bc5",
   "metadata": {},
   "outputs": [],
   "source": [
    "# Αποθήκευση του ευρετηρίου σε αρχείο\n",
    "index_file_name = \"inverted_index.json\"\n",
    "with open(index_file_name, 'w', encoding='utf-8') as f:\n",
    "    import json\n",
    "    json.dump(inverted_index, f, indent=4, ensure_ascii=False)\n",
    "\n",
    "print(f\"Το αντεστραμμένο ευρετήριο αποθηκεύτηκε στο αρχείο: {index_file_name}\")"
   ]
  }
 ],
 "metadata": {
  "kernelspec": {
   "display_name": "Python [conda env:base] *",
   "language": "python",
   "name": "conda-base-py"
  },
  "language_info": {
   "codemirror_mode": {
    "name": "ipython",
    "version": 3
   },
   "file_extension": ".py",
   "mimetype": "text/x-python",
   "name": "python",
   "nbconvert_exporter": "python",
   "pygments_lexer": "ipython3",
   "version": "3.12.3"
  }
 },
 "nbformat": 4,
 "nbformat_minor": 5
}
